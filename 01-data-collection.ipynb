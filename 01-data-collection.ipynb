{
 "cells": [
  {
   "cell_type": "markdown",
   "metadata": {},
   "source": [
    "# Data Collection \n",
    "\n",
    "\n",
    "+ read data images\n",
    "+ image visualization utilities \n",
    "+ tf.data.Dataset creation "
   ]
  },
  {
   "cell_type": "code",
   "execution_count": 53,
   "metadata": {},
   "outputs": [],
   "source": [
    "import os \n",
    "import pathlib\n",
    "import numpy as np\n",
    "import pandas as pd \n",
    "import tensorflow as tf \n",
    "import matplotlib.pyplot as plt\n",
    "import utils \n",
    "import cv2 \n",
    "\n",
    "from PIL import Image "
   ]
  },
  {
   "cell_type": "code",
   "execution_count": 6,
   "metadata": {},
   "outputs": [],
   "source": [
    "data_dir = 'data/'\n",
    "data_dir = pathlib.Path(data_dir)"
   ]
  },
  {
   "cell_type": "code",
   "execution_count": null,
   "metadata": {},
   "outputs": [],
   "source": []
  },
  {
   "cell_type": "code",
   "execution_count": 151,
   "metadata": {},
   "outputs": [],
   "source": [
    "img = utils.Image('data/beach/beach01.jpg')"
   ]
  },
  {
   "cell_type": "code",
   "execution_count": 152,
   "metadata": {},
   "outputs": [],
   "source": [
    "w_size = 7\n",
    "\n",
    "X = list()\n",
    "y = list() \n",
    "blues = list()\n",
    "greens = list()\n",
    "reds = list()\n",
    "\n",
    "for i in range(100): \n",
    "    for j in range(100): \n",
    "        \n",
    "        i_ = i + img.padding\n",
    "        j_ = j + img.padding\n",
    "        \n",
    "        grays, b, g, r = img.get_dataset_for_pixel(i_, j_, window_size=w_size)\n",
    "        X.append(grays)\n",
    "        blues.append(b)\n",
    "        greens.append(g)\n",
    "        reds.append(r)\n",
    "        y.append((b, g, r))\n",
    "        \n",
    "        \n",
    "X = np.array(X)\n",
    "blues = np.array(blues).reshape(-1, 1)\n",
    "greens = np.array(greens).reshape(-1, 1)\n",
    "reds = np.array(reds).reshape(-1, 1)\n",
    "y = np.array(y)"
   ]
  },
  {
   "cell_type": "code",
   "execution_count": 153,
   "metadata": {},
   "outputs": [],
   "source": [
    "X = utils.normalize(X)\n",
    "y = utils.normalize(y)"
   ]
  },
  {
   "cell_type": "code",
   "execution_count": null,
   "metadata": {},
   "outputs": [],
   "source": []
  },
  {
   "cell_type": "code",
   "execution_count": 134,
   "metadata": {},
   "outputs": [],
   "source": [
    "from tensorflow.keras.layers import Dense, InputLayer"
   ]
  },
  {
   "cell_type": "code",
   "execution_count": 135,
   "metadata": {},
   "outputs": [],
   "source": [
    "model = tf.keras.Sequential([ \n",
    "    Dense(100, input_shape=(w_size**2, ), activation='sigmoid'), \n",
    "    Dense(50, activation='relu'), \n",
    "    Dense(3, activation='relu')\n",
    "])\n",
    "\n",
    "model.compile(optimizer='adam', loss='mse')  "
   ]
  },
  {
   "cell_type": "code",
   "execution_count": 136,
   "metadata": {},
   "outputs": [
    {
     "name": "stdout",
     "output_type": "stream",
     "text": [
      "Train on 10000 samples\n",
      "Epoch 1/100\n",
      "10000/10000 - 1s - loss: 0.0138\n",
      "Epoch 2/100\n",
      "10000/10000 - 1s - loss: 0.0072\n",
      "Epoch 3/100\n",
      "10000/10000 - 1s - loss: 0.0063\n",
      "Epoch 4/100\n",
      "10000/10000 - 1s - loss: 0.0055\n",
      "Epoch 5/100\n",
      "10000/10000 - 1s - loss: 0.0051\n",
      "Epoch 6/100\n",
      "10000/10000 - 1s - loss: 0.0051\n",
      "Epoch 7/100\n",
      "10000/10000 - 1s - loss: 0.0047\n",
      "Epoch 8/100\n",
      "10000/10000 - 1s - loss: 0.0047\n",
      "Epoch 9/100\n",
      "10000/10000 - 1s - loss: 0.0045\n",
      "Epoch 10/100\n",
      "10000/10000 - 2s - loss: 0.0044\n",
      "Epoch 11/100\n",
      "10000/10000 - 1s - loss: 0.0044\n",
      "Epoch 12/100\n",
      "10000/10000 - 1s - loss: 0.0044\n",
      "Epoch 13/100\n",
      "10000/10000 - 1s - loss: 0.0044\n",
      "Epoch 14/100\n",
      "10000/10000 - 1s - loss: 0.0042\n",
      "Epoch 15/100\n",
      "10000/10000 - 1s - loss: 0.0043\n",
      "Epoch 16/100\n",
      "10000/10000 - 1s - loss: 0.0043\n",
      "Epoch 17/100\n",
      "10000/10000 - 1s - loss: 0.0043\n",
      "Epoch 18/100\n",
      "10000/10000 - 1s - loss: 0.0040\n",
      "Epoch 19/100\n",
      "10000/10000 - 1s - loss: 0.0040\n",
      "Epoch 20/100\n",
      "10000/10000 - 1s - loss: 0.0041\n",
      "Epoch 21/100\n",
      "10000/10000 - 1s - loss: 0.0040\n",
      "Epoch 22/100\n",
      "10000/10000 - 1s - loss: 0.0039\n",
      "Epoch 23/100\n",
      "10000/10000 - 1s - loss: 0.0039\n",
      "Epoch 24/100\n",
      "10000/10000 - 1s - loss: 0.0038\n",
      "Epoch 25/100\n",
      "10000/10000 - 1s - loss: 0.0039\n",
      "Epoch 26/100\n",
      "10000/10000 - 1s - loss: 0.0038\n",
      "Epoch 27/100\n",
      "10000/10000 - 1s - loss: 0.0038\n",
      "Epoch 28/100\n",
      "10000/10000 - 2s - loss: 0.0038\n",
      "Epoch 29/100\n",
      "10000/10000 - 1s - loss: 0.0037\n",
      "Epoch 30/100\n",
      "10000/10000 - 1s - loss: 0.0038\n",
      "Epoch 31/100\n",
      "10000/10000 - 2s - loss: 0.0036\n",
      "Epoch 32/100\n",
      "10000/10000 - 1s - loss: 0.0037\n",
      "Epoch 33/100\n",
      "10000/10000 - 1s - loss: 0.0036\n",
      "Epoch 34/100\n",
      "10000/10000 - 1s - loss: 0.0035\n",
      "Epoch 35/100\n",
      "10000/10000 - 1s - loss: 0.0035\n",
      "Epoch 36/100\n",
      "10000/10000 - 1s - loss: 0.0035\n",
      "Epoch 37/100\n",
      "10000/10000 - 1s - loss: 0.0035\n",
      "Epoch 38/100\n",
      "10000/10000 - 1s - loss: 0.0033\n",
      "Epoch 39/100\n",
      "10000/10000 - 1s - loss: 0.0034\n",
      "Epoch 40/100\n",
      "10000/10000 - 1s - loss: 0.0033\n",
      "Epoch 41/100\n",
      "10000/10000 - 1s - loss: 0.0032\n",
      "Epoch 42/100\n",
      "10000/10000 - 1s - loss: 0.0032\n",
      "Epoch 43/100\n",
      "10000/10000 - 1s - loss: 0.0031\n",
      "Epoch 44/100\n",
      "10000/10000 - 1s - loss: 0.0031\n",
      "Epoch 45/100\n",
      "10000/10000 - 1s - loss: 0.0031\n",
      "Epoch 46/100\n",
      "10000/10000 - 1s - loss: 0.0031\n",
      "Epoch 47/100\n",
      "10000/10000 - 1s - loss: 0.0031\n",
      "Epoch 48/100\n",
      "10000/10000 - 1s - loss: 0.0030\n",
      "Epoch 49/100\n",
      "10000/10000 - 1s - loss: 0.0030\n",
      "Epoch 50/100\n",
      "10000/10000 - 1s - loss: 0.0030\n",
      "Epoch 51/100\n",
      "10000/10000 - 1s - loss: 0.0029\n",
      "Epoch 52/100\n",
      "10000/10000 - 1s - loss: 0.0029\n",
      "Epoch 53/100\n",
      "10000/10000 - 1s - loss: 0.0029\n",
      "Epoch 54/100\n",
      "10000/10000 - 1s - loss: 0.0029\n",
      "Epoch 55/100\n",
      "10000/10000 - 1s - loss: 0.0028\n",
      "Epoch 56/100\n",
      "10000/10000 - 1s - loss: 0.0028\n",
      "Epoch 57/100\n",
      "10000/10000 - 1s - loss: 0.0028\n",
      "Epoch 58/100\n",
      "10000/10000 - 1s - loss: 0.0028\n",
      "Epoch 59/100\n",
      "10000/10000 - 1s - loss: 0.0028\n",
      "Epoch 60/100\n",
      "10000/10000 - 1s - loss: 0.0027\n",
      "Epoch 61/100\n",
      "10000/10000 - 1s - loss: 0.0027\n",
      "Epoch 62/100\n",
      "10000/10000 - 1s - loss: 0.0027\n",
      "Epoch 63/100\n",
      "10000/10000 - 1s - loss: 0.0027\n",
      "Epoch 64/100\n",
      "10000/10000 - 1s - loss: 0.0026\n",
      "Epoch 65/100\n",
      "10000/10000 - 1s - loss: 0.0026\n",
      "Epoch 66/100\n",
      "10000/10000 - 1s - loss: 0.0026\n",
      "Epoch 67/100\n",
      "10000/10000 - 1s - loss: 0.0026\n",
      "Epoch 68/100\n",
      "10000/10000 - 1s - loss: 0.0026\n",
      "Epoch 69/100\n",
      "10000/10000 - 1s - loss: 0.0026\n",
      "Epoch 70/100\n",
      "10000/10000 - 1s - loss: 0.0025\n",
      "Epoch 71/100\n",
      "10000/10000 - 1s - loss: 0.0025\n",
      "Epoch 72/100\n",
      "10000/10000 - 1s - loss: 0.0024\n",
      "Epoch 73/100\n",
      "10000/10000 - 1s - loss: 0.0024\n",
      "Epoch 74/100\n",
      "10000/10000 - 1s - loss: 0.0025\n",
      "Epoch 75/100\n",
      "10000/10000 - 1s - loss: 0.0024\n",
      "Epoch 76/100\n",
      "10000/10000 - 1s - loss: 0.0024\n",
      "Epoch 77/100\n",
      "10000/10000 - 1s - loss: 0.0024\n",
      "Epoch 78/100\n",
      "10000/10000 - 1s - loss: 0.0025\n",
      "Epoch 79/100\n",
      "10000/10000 - 1s - loss: 0.0024\n",
      "Epoch 80/100\n",
      "10000/10000 - 1s - loss: 0.0023\n",
      "Epoch 81/100\n",
      "10000/10000 - 1s - loss: 0.0023\n",
      "Epoch 82/100\n",
      "10000/10000 - 1s - loss: 0.0023\n",
      "Epoch 83/100\n",
      "10000/10000 - 1s - loss: 0.0023\n",
      "Epoch 84/100\n",
      "10000/10000 - 1s - loss: 0.0023\n",
      "Epoch 85/100\n",
      "10000/10000 - 1s - loss: 0.0022\n",
      "Epoch 86/100\n",
      "10000/10000 - 1s - loss: 0.0022\n",
      "Epoch 87/100\n",
      "10000/10000 - 1s - loss: 0.0023\n",
      "Epoch 88/100\n",
      "10000/10000 - 2s - loss: 0.0023\n",
      "Epoch 89/100\n",
      "10000/10000 - 1s - loss: 0.0022\n",
      "Epoch 90/100\n",
      "10000/10000 - 1s - loss: 0.0022\n",
      "Epoch 91/100\n",
      "10000/10000 - 1s - loss: 0.0022\n",
      "Epoch 92/100\n",
      "10000/10000 - 1s - loss: 0.0022\n",
      "Epoch 93/100\n",
      "10000/10000 - 2s - loss: 0.0022\n",
      "Epoch 94/100\n",
      "10000/10000 - 1s - loss: 0.0022\n",
      "Epoch 95/100\n",
      "10000/10000 - 2s - loss: 0.0022\n",
      "Epoch 96/100\n",
      "10000/10000 - 2s - loss: 0.0022\n",
      "Epoch 97/100\n",
      "10000/10000 - 2s - loss: 0.0021\n",
      "Epoch 98/100\n",
      "10000/10000 - 1s - loss: 0.0021\n",
      "Epoch 99/100\n",
      "10000/10000 - 1s - loss: 0.0021\n",
      "Epoch 100/100\n",
      "10000/10000 - 1s - loss: 0.0021\n"
     ]
    }
   ],
   "source": [
    "history = model.fit(X, y, epochs=100, verbose=2)"
   ]
  },
  {
   "cell_type": "code",
   "execution_count": 137,
   "metadata": {},
   "outputs": [
    {
     "data": {
      "text/plain": [
       "<matplotlib.collections.PathCollection at 0x7f77c8141190>"
      ]
     },
     "execution_count": 137,
     "metadata": {},
     "output_type": "execute_result"
    },
    {
     "data": {
      "image/png": "[encoded data removed]",
      "text/plain": [
       "<Figure size 432x288 with 1 Axes>"
      ]
     },
     "metadata": {
      "needs_background": "light"
     },
     "output_type": "display_data"
    }
   ],
   "source": [
    "l = history.history['loss']\n",
    "plt.scatter(np.arange(len(l)), l)"
   ]
  },
  {
   "cell_type": "markdown",
   "metadata": {},
   "source": [
    "## Testing "
   ]
  },
  {
   "cell_type": "code",
   "execution_count": 154,
   "metadata": {},
   "outputs": [],
   "source": [
    "y_pred = model.predict(X)"
   ]
  },
  {
   "cell_type": "code",
   "execution_count": 155,
   "metadata": {},
   "outputs": [],
   "source": [
    "colored = utils.reconstruct_from_vectors(blue=y_pred[:, 0], green=y_pred[:, 1], \n",
    "                                         red=y_pred[:, 2], dimension=100)\n",
    "colored = utils.to_255_scale(colored)"
   ]
  },
  {
   "cell_type": "code",
   "execution_count": 156,
   "metadata": {},
   "outputs": [
    {
     "data": {
      "text/plain": [
       "<matplotlib.image.AxesImage at 0x7f77afb00150>"
      ]
     },
     "execution_count": 156,
     "metadata": {},
     "output_type": "execute_result"
    },
    {
     "data": {
      "image/png": "[encoded data removed]",
      "text/plain": [
       "<Figure size 432x288 with 2 Axes>"
      ]
     },
     "metadata": {
      "needs_background": "light"
     },
     "output_type": "display_data"
    }
   ],
   "source": [
    "fig, axes = plt.subplots(1, 2)\n",
    "axes[0].imshow(cv2.cvtColor(img.data_nopadding, cv2.COLOR_BGR2RGB))\n",
    "axes[1].imshow(cv2.cvtColor(colored.astype('uint8'), cv2.COLOR_BGR2RGB))"
   ]
  },
  {
   "cell_type": "code",
   "execution_count": 157,
   "metadata": {},
   "outputs": [
    {
     "data": {
      "text/plain": [
       "array([[232, 180, 144],\n",
       "       [235, 177, 136],\n",
       "       [221, 173, 138],\n",
       "       ...,\n",
       "       [222, 215, 205],\n",
       "       [216, 212, 219],\n",
       "       [200, 207, 231]], dtype=uint8)"
      ]
     },
     "execution_count": 157,
     "metadata": {},
     "output_type": "execute_result"
    }
   ],
   "source": [
    "colored.reshape(-1, 3)"
   ]
  },
  {
   "cell_type": "code",
   "execution_count": null,
   "metadata": {},
   "outputs": [],
   "source": []
  }
 ],
 "metadata": {
  "kernelspec": {
   "display_name": "Python 3",
   "language": "python",
   "name": "python3"
  },
  "language_info": {
   "codemirror_mode": {
    "name": "ipython",
    "version": 3
   },
   "file_extension": ".py",
   "mimetype": "text/x-python",
   "name": "python",
   "nbconvert_exporter": "python",
   "pygments_lexer": "ipython3",
   "version": "3.7.9"
  },
  "toc": {
   "base_numbering": 1,
   "nav_menu": {},
   "number_sections": true,
   "sideBar": true,
   "skip_h1_title": false,
   "title_cell": "Table of Contents",
   "title_sidebar": "Contents",
   "toc_cell": false,
   "toc_position": {},
   "toc_section_display": true,
   "toc_window_display": false
  }
 },
 "nbformat": 4,
 "nbformat_minor": 4
}
